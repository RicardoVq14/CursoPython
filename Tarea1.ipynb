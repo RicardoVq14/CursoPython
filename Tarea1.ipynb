{
  "nbformat": 4,
  "nbformat_minor": 0,
  "metadata": {
    "colab": {
      "name": "Tarea1.ipynb",
      "provenance": [],
      "collapsed_sections": [],
      "authorship_tag": "ABX9TyNaDTES9F/+bd9W/Nm6qYMW",
      "include_colab_link": true
    },
    "kernelspec": {
      "name": "python3",
      "display_name": "Python 3"
    }
  },
  "cells": [
    {
      "cell_type": "markdown",
      "metadata": {
        "id": "view-in-github",
        "colab_type": "text"
      },
      "source": [
        "<a href=\"https://colab.research.google.com/github/RicardoVq14/CursoPython/blob/main/Tarea1.ipynb\" target=\"_parent\"><img src=\"https://colab.research.google.com/assets/colab-badge.svg\" alt=\"Open In Colab\"/></a>"
      ]
    },
    {
      "cell_type": "code",
      "metadata": {
        "colab": {
          "base_uri": "https://localhost:8080/"
        },
        "id": "9wrxjt4Jh8l2",
        "outputId": "fb2c1a38-c88b-46a7-8781-1b453055da17"
      },
      "source": [
        "#Programa Tarea 1\r\n",
        "Nombre=input(\"Introduce tu  primer nombre: \")\r\n",
        "Nombre2=input(\"Introduce tu  segundo nombre: \")\r\n",
        "Apellido=input(\"Introduce tu primer apellido: \")\r\n",
        "Apellido2=input(\"Introduce tu segundo apellido: \")\r\n",
        "Edad=input(\"Introduce tu edad: \")\r\n",
        "Sexo=input(\"Introduce tu Sexo: \")\r\n",
        "print(\"\\nTu nombre completo es \",Nombre,Nombre2,Apellido,Apellido2, \"tienes \",Edad, \"años y tu sexo es \", Sexo )\r\n"
      ],
      "execution_count": null,
      "outputs": [
        {
          "output_type": "stream",
          "text": [
            "Introduce tu  primer nombre: rgrgr\n",
            "Introduce tu  segundo nombre: \n",
            "Introduce tu primer apellido: \n",
            "Introduce tu segundo apellido: \n",
            "Introduce tu edad: \n",
            "Introduce tu Sexo: grs\n",
            "\n",
            "Tu nombre completo es  rgrgr    tienes   años y tu sexo es  grs\n"
          ],
          "name": "stdout"
        }
      ]
    }
  ]
}