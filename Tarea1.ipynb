{
  "nbformat": 4,
  "nbformat_minor": 0,
  "metadata": {
    "colab": {
      "name": "Tarea1.ipynb",
      "provenance": [],
      "collapsed_sections": [],
      "authorship_tag": "ABX9TyNaDTES9F/+bd9W/Nm6qYMW",
      "include_colab_link": true
    },
    "kernelspec": {
      "name": "python3",
      "display_name": "Python 3"
    }
  },
  "cells": [
    {
      "cell_type": "markdown",
      "metadata": {
        "id": "view-in-github",
        "colab_type": "text"
      },
      "source": [
        "<a href=\"https://colab.research.google.com/github/RicardoVq14/CursoPython/blob/main/Tarea1.ipynb\" target=\"_parent\"><img src=\"https://colab.research.google.com/assets/colab-badge.svg\" alt=\"Open In Colab\"/></a>"
      ]
    },
    {
      "cell_type": "code",
      "metadata": {
        "colab": {
          "base_uri": "https://localhost:8080/"
        },
        "id": "9wrxjt4Jh8l2",
        "outputId": "b156da8a-2c4b-4ad5-9a63-6946d79c9534"
      },
      "source": [
        "#Programa Tarea 1\r\n",
        "Nombre=input(\"Introduce tu  primer nombre: \")\r\n",
        "Nombre2=input(\"Introduce tu  segundo nombre: \")\r\n",
        "Apellido=input(\"Introduce tu primer apellido: \")\r\n",
        "Apellido2=input(\"Introduce tu segundo apellido: \")\r\n",
        "Edad=input(\"Introduce tu edad: \")\r\n",
        "Sexo=input(\"Introduce tu Sexo: \")\r\n",
        "print(\"\\nTu nombre completo es \",Nombre,Nombre2,Apellido,Apellido2, \"tienes \",Edad, \"años y tu sexo es \", Sexo )\r\n"
      ],
      "execution_count": 1,
      "outputs": [
        {
          "output_type": "stream",
          "text": [
            "Introduce tu  primer nombre: Ricardo\n",
            "Introduce tu  segundo nombre: Sergio\n",
            "Introduce tu primer apellido: Valdés\n",
            "Introduce tu segundo apellido: Quevedo\n",
            "Introduce tu edad: 20\n",
            "Introduce tu Sexo: Masculino\n",
            "\n",
            "Tu nombre completo es  Ricardo Sergio Valdés Quevedo tienes  20 años y tu sexo es  Masculino\n"
          ],
          "name": "stdout"
        }
      ]
    }
  ]
}